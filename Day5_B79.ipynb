{
 "cells": [
  {
   "cell_type": "code",
   "execution_count": null,
   "id": "88ee2748",
   "metadata": {},
   "outputs": [],
   "source": [
    "Continuation with list datatype:"
   ]
  },
  {
   "cell_type": "code",
   "execution_count": null,
   "id": "1f1e1f05",
   "metadata": {},
   "outputs": [],
   "source": [
    "organising the list datatype:"
   ]
  },
  {
   "cell_type": "code",
   "execution_count": null,
   "id": "28bd87eb",
   "metadata": {},
   "outputs": [],
   "source": []
  },
  {
   "cell_type": "code",
   "execution_count": 1,
   "id": "6f1926af",
   "metadata": {},
   "outputs": [],
   "source": [
    "cars = ['suzuki','maruthi','honda','kia','bmw','toyota','audi','benz' ]"
   ]
  },
  {
   "cell_type": "code",
   "execution_count": 2,
   "id": "a6a160e8",
   "metadata": {},
   "outputs": [
    {
     "name": "stdout",
     "output_type": "stream",
     "text": [
      "['suzuki', 'maruthi', 'honda', 'kia', 'bmw', 'toyota', 'audi', 'benz']\n"
     ]
    }
   ],
   "source": [
    "print(cars)"
   ]
  },
  {
   "cell_type": "code",
   "execution_count": 3,
   "id": "0841726a",
   "metadata": {},
   "outputs": [
    {
     "data": {
      "text/plain": [
       "list"
      ]
     },
     "execution_count": 3,
     "metadata": {},
     "output_type": "execute_result"
    }
   ],
   "source": [
    "type(cars)"
   ]
  },
  {
   "cell_type": "code",
   "execution_count": null,
   "id": "21075814",
   "metadata": {},
   "outputs": [],
   "source": [
    "# How to organise alist in alphabetical order i.e A-Z"
   ]
  },
  {
   "cell_type": "code",
   "execution_count": null,
   "id": "4fc4f8bb",
   "metadata": {},
   "outputs": [],
   "source": [
    "There are two methods to organise the order,\n",
    "1. temp approach ======>sorted===>by this function we will be able to get the orginal order back.\n",
    "2.permanent approach ====>sort===>by this function all the changes are implied permanently.\n",
    "\n",
    "for example:"
   ]
  },
  {
   "cell_type": "code",
   "execution_count": 4,
   "id": "1692d278",
   "metadata": {},
   "outputs": [
    {
     "name": "stdout",
     "output_type": "stream",
     "text": [
      "['audi', 'benz', 'bmw', 'honda', 'kia', 'maruthi', 'suzuki', 'toyota']\n"
     ]
    }
   ],
   "source": [
    "print(sorted(cars))  # temperory approach"
   ]
  },
  {
   "cell_type": "code",
   "execution_count": 5,
   "id": "d9d9746e",
   "metadata": {},
   "outputs": [],
   "source": [
    "cars.sort()"
   ]
  },
  {
   "cell_type": "code",
   "execution_count": 6,
   "id": "264e3a2b",
   "metadata": {},
   "outputs": [
    {
     "name": "stdout",
     "output_type": "stream",
     "text": [
      "['audi', 'benz', 'bmw', 'honda', 'kia', 'maruthi', 'suzuki', 'toyota']\n"
     ]
    }
   ],
   "source": [
    "print(cars)"
   ]
  },
  {
   "cell_type": "code",
   "execution_count": null,
   "id": "f01f8432",
   "metadata": {},
   "outputs": [],
   "source": [
    "** Interview question-what is the difference between soreted and sort method in a list?\n",
    "Ans: Sorted menthod is used to get the orginal order temp where as sort method is used to chnage the order permanently."
   ]
  },
  {
   "cell_type": "code",
   "execution_count": null,
   "id": "f03a4576",
   "metadata": {},
   "outputs": [],
   "source": [
    "# = hash is used for commenting lines\n",
    "\n",
    "for example; in cell if we press shift enter without has it will show syntax error, in cell 8 when we use hash and press shift enter it will consider as comment line."
   ]
  },
  {
   "cell_type": "code",
   "execution_count": 7,
   "id": "2bc5e84e",
   "metadata": {},
   "outputs": [
    {
     "ename": "SyntaxError",
     "evalue": "invalid syntax (1966323803.py, line 1)",
     "output_type": "error",
     "traceback": [
      "\u001b[1;36m  Cell \u001b[1;32mIn[7], line 1\u001b[1;36m\u001b[0m\n\u001b[1;33m    continuation of datatype:\u001b[0m\n\u001b[1;37m                 ^\u001b[0m\n\u001b[1;31mSyntaxError\u001b[0m\u001b[1;31m:\u001b[0m invalid syntax\n"
     ]
    }
   ],
   "source": [
    "continuation of datatype:"
   ]
  },
  {
   "cell_type": "code",
   "execution_count": 8,
   "id": "c87c2395",
   "metadata": {},
   "outputs": [],
   "source": [
    "# continuation of dataype"
   ]
  },
  {
   "cell_type": "code",
   "execution_count": null,
   "id": "b7f36f0c",
   "metadata": {},
   "outputs": [],
   "source": []
  },
  {
   "cell_type": "code",
   "execution_count": 9,
   "id": "41272143",
   "metadata": {},
   "outputs": [],
   "source": [
    "# how to print the above list in reverse order : function : .reverse()"
   ]
  },
  {
   "cell_type": "code",
   "execution_count": null,
   "id": "5b67f2c2",
   "metadata": {},
   "outputs": [],
   "source": [
    "for example:"
   ]
  },
  {
   "cell_type": "code",
   "execution_count": 10,
   "id": "a4978579",
   "metadata": {},
   "outputs": [],
   "source": [
    "cars.reverse()"
   ]
  },
  {
   "cell_type": "code",
   "execution_count": 11,
   "id": "ac906287",
   "metadata": {},
   "outputs": [
    {
     "name": "stdout",
     "output_type": "stream",
     "text": [
      "['toyota', 'suzuki', 'maruthi', 'kia', 'honda', 'bmw', 'benz', 'audi']\n"
     ]
    }
   ],
   "source": [
    "print(cars)"
   ]
  },
  {
   "cell_type": "code",
   "execution_count": null,
   "id": "c2096b41",
   "metadata": {},
   "outputs": [],
   "source": [
    "# how to calculated the no of elements in the list: function : len\n",
    "\n",
    "for example:\n"
   ]
  },
  {
   "cell_type": "code",
   "execution_count": 12,
   "id": "a8243cad",
   "metadata": {},
   "outputs": [
    {
     "data": {
      "text/plain": [
       "8"
      ]
     },
     "execution_count": 12,
     "metadata": {},
     "output_type": "execute_result"
    }
   ],
   "source": [
    "len(cars)"
   ]
  },
  {
   "cell_type": "code",
   "execution_count": null,
   "id": "47631829",
   "metadata": {},
   "outputs": [],
   "source": []
  },
  {
   "cell_type": "code",
   "execution_count": null,
   "id": "8bb80758",
   "metadata": {},
   "outputs": [],
   "source": [
    "Introduction to slicing:"
   ]
  },
  {
   "cell_type": "code",
   "execution_count": null,
   "id": "50348d67",
   "metadata": {},
   "outputs": [],
   "source": []
  },
  {
   "cell_type": "code",
   "execution_count": null,
   "id": "fb0dad01",
   "metadata": {},
   "outputs": [],
   "source": [
    "Syntax of slicing: [startvalue:stopvalue:stepcount]"
   ]
  },
  {
   "cell_type": "code",
   "execution_count": null,
   "id": "9c20f3b5",
   "metadata": {},
   "outputs": [],
   "source": [
    "note: \n",
    "startvalue is the starting element/word.\n",
    "stopvalue is always exclusive, means it will not be included, to include the stop value we need to increment the number by +1.\n",
    "stepcount is used to count the steps, if a step values is not mentioned then default it is consider as plus one "
   ]
  },
  {
   "cell_type": "code",
   "execution_count": null,
   "id": "908f2299",
   "metadata": {},
   "outputs": [],
   "source": [
    "for example:"
   ]
  },
  {
   "cell_type": "code",
   "execution_count": 13,
   "id": "29d32d89",
   "metadata": {},
   "outputs": [],
   "source": [
    "students = ['aditi','mounkia','ramya','naveen','adi','kiran','david']"
   ]
  },
  {
   "cell_type": "code",
   "execution_count": 14,
   "id": "975170bf",
   "metadata": {},
   "outputs": [
    {
     "name": "stdout",
     "output_type": "stream",
     "text": [
      "['aditi', 'mounkia', 'ramya', 'naveen', 'adi', 'kiran', 'david']\n"
     ]
    }
   ],
   "source": [
    "print(students)"
   ]
  },
  {
   "cell_type": "code",
   "execution_count": null,
   "id": "9f2d58af",
   "metadata": {},
   "outputs": [],
   "source": [
    "['aditi', 'mounkia', 'ramya', 'naveen', 'adi', 'kiran', 'david']\n",
    "\n",
    "   0          1         2         3       4       5        6"
   ]
  },
  {
   "cell_type": "code",
   "execution_count": null,
   "id": "9fcf4ea7",
   "metadata": {},
   "outputs": [],
   "source": [
    "to print only aditi"
   ]
  },
  {
   "cell_type": "code",
   "execution_count": 15,
   "id": "e83a95f1",
   "metadata": {},
   "outputs": [
    {
     "name": "stdout",
     "output_type": "stream",
     "text": [
      "['aditi']\n"
     ]
    }
   ],
   "source": [
    "print(students[0:1])"
   ]
  },
  {
   "cell_type": "code",
   "execution_count": null,
   "id": "5198cb39",
   "metadata": {},
   "outputs": [],
   "source": [
    "here stop value is one, which is not included, to include the index 1 i.e mounika we need to incement the no by +1\n",
    "\n",
    "for example:"
   ]
  },
  {
   "cell_type": "code",
   "execution_count": 16,
   "id": "34374036",
   "metadata": {},
   "outputs": [
    {
     "name": "stdout",
     "output_type": "stream",
     "text": [
      "['aditi', 'mounkia']\n"
     ]
    }
   ],
   "source": [
    "print(students[0:2])"
   ]
  },
  {
   "cell_type": "code",
   "execution_count": null,
   "id": "d25324f6",
   "metadata": {},
   "outputs": [],
   "source": [
    "To print print ramya and naveen"
   ]
  },
  {
   "cell_type": "code",
   "execution_count": 17,
   "id": "129f1c54",
   "metadata": {},
   "outputs": [
    {
     "name": "stdout",
     "output_type": "stream",
     "text": [
      "['ramya', 'naveen']\n"
     ]
    }
   ],
   "source": [
    "print(students[2:4])"
   ]
  },
  {
   "cell_type": "code",
   "execution_count": null,
   "id": "5f8aba1a",
   "metadata": {},
   "outputs": [],
   "source": []
  },
  {
   "cell_type": "code",
   "execution_count": null,
   "id": "529905d0",
   "metadata": {},
   "outputs": [],
   "source": [
    "to print every alternate name then we need to add the step count to 2, if we want every 3 number to print then step count will be 3.\n",
    "\n",
    "the stop value should be end value and start value will be the value from where you want to start.\n",
    "\n",
    "for example:"
   ]
  },
  {
   "cell_type": "code",
   "execution_count": 18,
   "id": "45bead0d",
   "metadata": {},
   "outputs": [
    {
     "name": "stdout",
     "output_type": "stream",
     "text": [
      "['aditi', 'ramya', 'adi', 'david']\n"
     ]
    }
   ],
   "source": [
    "print(students[0:7:2])"
   ]
  },
  {
   "cell_type": "code",
   "execution_count": null,
   "id": "e4e509cf",
   "metadata": {},
   "outputs": [],
   "source": []
  },
  {
   "cell_type": "code",
   "execution_count": null,
   "id": "6168c65f",
   "metadata": {},
   "outputs": [],
   "source": [
    "Introduction to to the concept of -ve indexing:"
   ]
  },
  {
   "cell_type": "code",
   "execution_count": null,
   "id": "80accc17",
   "metadata": {},
   "outputs": [],
   "source": [
    "postive indexing starts from : 0,1,2,3,4,5...... (forward direction)\n",
    "negative indexing starts from: -1,-2,-3,-4,-5.... (reverse direction)"
   ]
  },
  {
   "cell_type": "code",
   "execution_count": null,
   "id": "88cddea9",
   "metadata": {},
   "outputs": [],
   "source": []
  },
  {
   "cell_type": "code",
   "execution_count": null,
   "id": "a5acdc12",
   "metadata": {},
   "outputs": [],
   "source": [
    "['aditi', 'mounkia', 'ramya', 'naveen', 'adi', 'kiran', 'david']\n",
    "\n",
    "   0          1         2         3       4       5        6    ==> positive indexing\n",
    "  -7         -6        -5        -4      -3      -2       -1    ==> negative indexing"
   ]
  },
  {
   "cell_type": "code",
   "execution_count": null,
   "id": "bf7d42fb",
   "metadata": {},
   "outputs": [],
   "source": []
  },
  {
   "cell_type": "code",
   "execution_count": null,
   "id": "c9d56211",
   "metadata": {},
   "outputs": [],
   "source": []
  },
  {
   "cell_type": "code",
   "execution_count": 19,
   "id": "5abd7ebb",
   "metadata": {},
   "outputs": [
    {
     "name": "stdout",
     "output_type": "stream",
     "text": [
      "['aditi', 'mounkia', 'ramya', 'naveen', 'adi', 'kiran', 'david']\n"
     ]
    }
   ],
   "source": [
    "print(students)"
   ]
  },
  {
   "cell_type": "code",
   "execution_count": 20,
   "id": "bfceeeb2",
   "metadata": {},
   "outputs": [
    {
     "name": "stdout",
     "output_type": "stream",
     "text": [
      "david\n"
     ]
    }
   ],
   "source": [
    "print(students[-1])"
   ]
  },
  {
   "cell_type": "code",
   "execution_count": null,
   "id": "7fcdbc93",
   "metadata": {},
   "outputs": [],
   "source": []
  },
  {
   "cell_type": "code",
   "execution_count": null,
   "id": "04783125",
   "metadata": {},
   "outputs": [],
   "source": []
  },
  {
   "cell_type": "code",
   "execution_count": null,
   "id": "cb342130",
   "metadata": {},
   "outputs": [],
   "source": []
  }
 ],
 "metadata": {
  "kernelspec": {
   "display_name": "Python 3 (ipykernel)",
   "language": "python",
   "name": "python3"
  },
  "language_info": {
   "codemirror_mode": {
    "name": "ipython",
    "version": 3
   },
   "file_extension": ".py",
   "mimetype": "text/x-python",
   "name": "python",
   "nbconvert_exporter": "python",
   "pygments_lexer": "ipython3",
   "version": "3.10.9"
  }
 },
 "nbformat": 4,
 "nbformat_minor": 5
}
